{
 "cells": [
  {
   "cell_type": "code",
   "execution_count": 11,
   "metadata": {
    "collapsed": true,
    "pycharm": {
     "name": "#%%\n"
    }
   },
   "outputs": [],
   "source": [
    "from statsmodels.formula.api import ols\n",
    "import pandas as pd\n",
    "import numpy as np\n",
    "import matplotlib.pyplot as plt\n",
    "import seaborn as sns\n",
    "from itertools import product"
   ]
  },
  {
   "cell_type": "code",
   "execution_count": 13,
   "outputs": [
    {
     "name": "stdout",
     "output_type": "stream",
     "text": [
      "house_age_years[0 to 15]                                        16.046849\n",
      "house_age_years[15 to 30]                                       13.760066\n",
      "house_age_years[30 to 45]                                       12.088773\n",
      "n_convenience                                                    0.374982\n",
      "n_convenience:house_age_years[T.15 to 30]                        0.078370\n",
      "n_convenience:house_age_years[T.30 to 45]                        0.066720\n",
      "sqrt_dist_to_mrt_m                                              -0.162944\n",
      "sqrt_dist_to_mrt_m:house_age_years[T.15 to 30]                   0.036618\n",
      "sqrt_dist_to_mrt_m:house_age_years[T.30 to 45]                   0.061281\n",
      "n_convenience:sqrt_dist_to_mrt_m                                -0.008393\n",
      "n_convenience:sqrt_dist_to_mrt_m:house_age_years[T.15 to 30]    -0.003821\n",
      "n_convenience:sqrt_dist_to_mrt_m:house_age_years[T.30 to 45]     0.004401\n",
      "dtype: float64\n"
     ]
    }
   ],
   "source": [
    "taiwan_real_estate = pd.read_csv('./taiwan_real_estate2.csv')\n",
    "taiwan_real_estate = taiwan_real_estate.assign(\n",
    "    sqrt_dist_to_mrt_m = np.sqrt(taiwan_real_estate[\"dist_to_mrt_m\"])\n",
    ")\n",
    "\n",
    "# preço da casa a partir da numero de conveniencias, raiz da distancia e idade (com iterações entre os parâmetros)\n",
    "mdl_price_vs_all_3_way_inter = ols(\"price_twd_msq ~ n_convenience * sqrt_dist_to_mrt_m * house_age_years + 0\",\n",
    "                                   data=taiwan_real_estate).fit()\n",
    "print(mdl_price_vs_all_3_way_inter.params)"
   ],
   "metadata": {
    "collapsed": false,
    "pycharm": {
     "name": "#%%\n"
    }
   }
  },
  {
   "cell_type": "code",
   "execution_count": null,
   "outputs": [],
   "source": [],
   "metadata": {
    "collapsed": false,
    "pycharm": {
     "name": "#%%\n"
    }
   }
  }
 ],
 "metadata": {
  "kernelspec": {
   "display_name": "Python 3",
   "language": "python",
   "name": "python3"
  },
  "language_info": {
   "codemirror_mode": {
    "name": "ipython",
    "version": 2
   },
   "file_extension": ".py",
   "mimetype": "text/x-python",
   "name": "python",
   "nbconvert_exporter": "python",
   "pygments_lexer": "ipython2",
   "version": "2.7.6"
  }
 },
 "nbformat": 4,
 "nbformat_minor": 0
}