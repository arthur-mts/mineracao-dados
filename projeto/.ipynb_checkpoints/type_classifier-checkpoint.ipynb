{
 "cells": [
  {
   "cell_type": "code",
   "execution_count": 1,
   "metadata": {
    "ExecuteTime": {
     "end_time": "2023-05-31T21:31:53.244780400Z",
     "start_time": "2023-05-31T21:31:53.213175600Z"
    }
   },
   "outputs": [
    {
     "data": {
      "image/png": "[encoded data removed]",
      "text/plain": [
       "<Figure size 640x480 with 1 Axes>"
      ]
     },
     "metadata": {},
     "output_type": "display_data"
    }
   ],
   "source": [
    "import pandas as pd\n",
    "import numpy as np\n",
    "from ipynb.fs.full.extracao import damage_matrix, Types, pokedex_df_filtered"
   ]
  },
  {
   "cell_type": "markdown",
   "metadata": {},
   "source": [
    "## Classificador de tipos"
   ]
  },
  {
   "cell_type": "markdown",
   "metadata": {},
   "source": [
    "Agora iremos arrumar um jeito de encontrar um Pokemon com o tipo complementar ao meu Pokemon incial."
   ]
  },
  {
   "cell_type": "code",
   "execution_count": 2,
   "metadata": {},
   "outputs": [],
   "source": [
    "pokemon = \"Charizard\"\n",
    "pokemon_types = [Types.Fire, Types.Flying]\n",
    "damage_multipliers = np.empty(18)\n",
    "damage_multipliers.fill(1)\n",
    "\n",
    "for cur_type in pokemon_types:\n",
    "    damage_multipliers_def = damage_matrix[:, cur_type.value]\n",
    "    for i in range(len(damage_multipliers_def)):\n",
    "        damage_multipliers[i] = damage_multipliers[i] * damage_multipliers_def[i]\n"
   ]
  },
  {
   "cell_type": "code",
   "execution_count": 3,
   "metadata": {},
   "outputs": [
    {
     "name": "stdout",
     "output_type": "stream",
     "text": [
      "Normal = 1.0\n",
      "Fire = 0.5\n",
      "Water = 2.0\n",
      "Electric = 2.0\n",
      "Grass = 0.25\n",
      "Ice = 1.0\n",
      "Fighting = 0.5\n",
      "Poison = 1.0\n",
      "Ground = 0.0\n",
      "Flying = 1.0\n",
      "Psychic = 1.0\n",
      "Bug = 0.25\n",
      "Rock = 4.0\n",
      "Ghost = 1.0\n",
      "Dragon = 1.0\n",
      "Dark = 1.0\n",
      "Steel = 0.5\n",
      "Fairy = 0.5\n"
     ]
    }
   ],
   "source": [
    "for i in range(len(damage_multipliers)):\n",
    "    print(f\"{Types(i).name} = {damage_multipliers[i]}\")"
   ]
  },
  {
   "cell_type": "markdown",
   "metadata": {},
   "source": [
    "Sabendo quais as fraquezas e efetividades do meu pokemon, irei buscar:\n",
    "- 3 pokemons imunes (ou fracos) as fraquezas do meu inicial. Irei escolher as fraquezes que são mais usadas no competitivo.\n",
    "- 2 pokemons superefetivos contra as fraquezas do meu inicial. Irei escolher as fraquezes que são mais usadas no competitivo."
   ]
  },
  {
   "cell_type": "markdown",
   "metadata": {},
   "source": [
    "Irei usar algum critério randomico para escolher tipos diferents para essas duas categorias e gerar mais de uma opção de time.  \n",
    "Por exemplo, para o Charizard posso escolher 3 Pokemons imunes aos tipos:\n",
    "- Water\n",
    "- Ground\n",
    "- Ice  \n",
    "\n",
    "ou\n",
    "\n",
    "- Rock\n",
    "- Eletric\n",
    "- Water"
   ]
  },
  {
   "cell_type": "markdown",
   "metadata": {},
   "source": [
    "## Implementando"
   ]
  },
  {
   "cell_type": "code",
   "execution_count": 4,
   "metadata": {},
   "outputs": [],
   "source": [
    "four_x_weak = np.argwhere(damage_multipliers == 4).flatten()\n",
    "two_x_weak = np.argwhere(damage_multipliers == 2).flatten()"
   ]
  },
  {
   "cell_type": "code",
   "execution_count": 5,
   "metadata": {},
   "outputs": [],
   "source": [
    "weak_types =  np.concatenate([np.random.choice(four_x_weak, size = 1), np.random.choice(two_x_weak, size = 2)])"
   ]
  },
  {
   "cell_type": "code",
   "execution_count": 6,
   "metadata": {},
   "outputs": [],
   "source": [
    "pokedex_df_filtered_with_predict = pd.read_pickle('./pokedex_df_filtered_with_predict.pkl')"
   ]
  },
  {
   "cell_type": "markdown",
   "metadata": {},
   "source": [
    "Escolhendo dois pokemons imunes as fraquezas do meu inicial"
   ]
  },
  {
   "cell_type": "code",
   "execution_count": 7,
   "metadata": {},
   "outputs": [],
   "source": [
    "strong_against_my_weak = np.array([])\n",
    "\n",
    "for i in weak_types:\n",
    "    damage_multiplier_def = damage_matrix[:, i]\n",
    "    immune_to = np.argwhere(damage_multiplier_def == 0.0)\n",
    "    strong_to = np.argwhere(damage_multiplier_def == 0.5)\n",
    "    for i in immune_to:\n",
    "        if len(strong_against_my_weak) == 3:\n",
    "            break\n",
    "        strong_against_my_weak = np.append(strong_against_my_weak, i)\n",
    "    for i in strong_to:\n",
    "        if len(strong_against_my_weak) == 3:\n",
    "            break\n",
    "        strong_against_my_weak = np.append(strong_against_my_weak, i)"
   ]
  },
  {
   "cell_type": "code",
   "execution_count": 8,
   "metadata": {},
   "outputs": [
    {
     "name": "stdout",
     "output_type": "stream",
     "text": [
      "Types.Normal\n",
      "Types.Fire\n",
      "Types.Poison\n"
     ]
    }
   ],
   "source": [
    "for i in strong_against_my_weak:\n",
    "    print(Types(i))"
   ]
  },
  {
   "cell_type": "code",
   "execution_count": 9,
   "metadata": {},
   "outputs": [],
   "source": [
    "pokemon_cur_role = pokedex_df_filtered_with_predict[pokedex_df_filtered_with_predict.name == \"charizard\"].role.values[0]\n",
    "desired_roles = np.array(['SPAttacker', 'SPAttacker', 'Attacker', 'Attacker', 'Tank' ,'Tank'])\n",
    "#desired_roles = np.delete(desired_types, np.where(desired_roles == pokemon_cur_type))"
   ]
  },
  {
   "cell_type": "code",
   "execution_count": 11,
   "metadata": {},
   "outputs": [
    {
     "ename": "NameError",
     "evalue": "name 'pokemon_cur_type' is not defined",
     "output_type": "error",
     "traceback": [
      "\u001b[1;31m---------------------------------------------------------------------------\u001b[0m",
      "\u001b[1;31mNameError\u001b[0m                                 Traceback (most recent call last)",
      "Cell \u001b[1;32mIn[11], line 1\u001b[0m\n\u001b[1;32m----> 1\u001b[0m np\u001b[38;5;241m.\u001b[39mdelete(desired_roles, np\u001b[38;5;241m.\u001b[39mwhere(desired_roles \u001b[38;5;241m==\u001b[39m \u001b[43mpokemon_cur_type\u001b[49m)[\u001b[38;5;241m0\u001b[39m][\u001b[38;5;241m0\u001b[39m])\n",
      "\u001b[1;31mNameError\u001b[0m: name 'pokemon_cur_type' is not defined"
     ]
    }
   ],
   "source": [
    " np.delete(desired_roles, np.where(desired_roles == pokemon_cur_type)[0][0])\n",
    "    "
   ]
  },
  {
   "cell_type": "code",
   "execution_count": null,
   "metadata": {},
   "outputs": [],
   "source": [
    "np.where(desired_roles == pokemon_cur_type)[0][0]"
   ]
  },
  {
   "cell_type": "code",
   "execution_count": null,
   "metadata": {},
   "outputs": [],
   "source": [
    "desired_roles"
   ]
  },
  {
   "cell_type": "code",
   "execution_count": 12,
   "metadata": {},
   "outputs": [
    {
     "data": {
      "text/html": [
       "<div>\n",
       "<style scoped>\n",
       "    .dataframe tbody tr th:only-of-type {\n",
       "        vertical-align: middle;\n",
       "    }\n",
       "\n",
       "    .dataframe tbody tr th {\n",
       "        vertical-align: top;\n",
       "    }\n",
       "\n",
       "    .dataframe thead th {\n",
       "        text-align: right;\n",
       "    }\n",
       "</style>\n",
       "<table border=\"1\" class=\"dataframe\">\n",
       "  <thead>\n",
       "    <tr style=\"text-align: right;\">\n",
       "      <th></th>\n",
       "      <th>color</th>\n",
       "      <th>is_legendary</th>\n",
       "      <th>is_mythical</th>\n",
       "      <th>name</th>\n",
       "      <th>shape</th>\n",
       "      <th>image_url</th>\n",
       "      <th>type</th>\n",
       "      <th>base_hp</th>\n",
       "      <th>base_attack</th>\n",
       "      <th>base_defense</th>\n",
       "      <th>base_special_attack</th>\n",
       "      <th>base_special_defense</th>\n",
       "      <th>base_speed</th>\n",
       "      <th>status_mean</th>\n",
       "      <th>type1</th>\n",
       "      <th>type2</th>\n",
       "      <th>role</th>\n",
       "    </tr>\n",
       "  </thead>\n",
       "  <tbody>\n",
       "    <tr>\n",
       "      <th>1</th>\n",
       "      <td>green</td>\n",
       "      <td>False</td>\n",
       "      <td>False</td>\n",
       "      <td>ivysaur</td>\n",
       "      <td>quadruped</td>\n",
       "      <td>https://raw.githubusercontent.com/PokeAPI/spri...</td>\n",
       "      <td>[grass, poison]</td>\n",
       "      <td>60</td>\n",
       "      <td>62</td>\n",
       "      <td>63</td>\n",
       "      <td>80</td>\n",
       "      <td>80</td>\n",
       "      <td>60</td>\n",
       "      <td>67.500000</td>\n",
       "      <td>grass</td>\n",
       "      <td>poison</td>\n",
       "      <td>Tank</td>\n",
       "    </tr>\n",
       "    <tr>\n",
       "      <th>2</th>\n",
       "      <td>green</td>\n",
       "      <td>False</td>\n",
       "      <td>False</td>\n",
       "      <td>venusaur</td>\n",
       "      <td>quadruped</td>\n",
       "      <td>https://raw.githubusercontent.com/PokeAPI/spri...</td>\n",
       "      <td>[grass, poison]</td>\n",
       "      <td>80</td>\n",
       "      <td>82</td>\n",
       "      <td>83</td>\n",
       "      <td>100</td>\n",
       "      <td>100</td>\n",
       "      <td>80</td>\n",
       "      <td>87.500000</td>\n",
       "      <td>grass</td>\n",
       "      <td>poison</td>\n",
       "      <td>SPAttacker</td>\n",
       "    </tr>\n",
       "    <tr>\n",
       "      <th>4</th>\n",
       "      <td>red</td>\n",
       "      <td>False</td>\n",
       "      <td>False</td>\n",
       "      <td>charmeleon</td>\n",
       "      <td>upright</td>\n",
       "      <td>https://raw.githubusercontent.com/PokeAPI/spri...</td>\n",
       "      <td>[fire]</td>\n",
       "      <td>58</td>\n",
       "      <td>64</td>\n",
       "      <td>58</td>\n",
       "      <td>80</td>\n",
       "      <td>65</td>\n",
       "      <td>80</td>\n",
       "      <td>67.500000</td>\n",
       "      <td>fire</td>\n",
       "      <td>None</td>\n",
       "      <td>Tank</td>\n",
       "    </tr>\n",
       "    <tr>\n",
       "      <th>5</th>\n",
       "      <td>red</td>\n",
       "      <td>False</td>\n",
       "      <td>False</td>\n",
       "      <td>charizard</td>\n",
       "      <td>upright</td>\n",
       "      <td>https://raw.githubusercontent.com/PokeAPI/spri...</td>\n",
       "      <td>[fire, flying]</td>\n",
       "      <td>78</td>\n",
       "      <td>84</td>\n",
       "      <td>78</td>\n",
       "      <td>109</td>\n",
       "      <td>85</td>\n",
       "      <td>100</td>\n",
       "      <td>89.000000</td>\n",
       "      <td>fire</td>\n",
       "      <td>flying</td>\n",
       "      <td>SPAttacker</td>\n",
       "    </tr>\n",
       "    <tr>\n",
       "      <th>7</th>\n",
       "      <td>blue</td>\n",
       "      <td>False</td>\n",
       "      <td>False</td>\n",
       "      <td>wartortle</td>\n",
       "      <td>upright</td>\n",
       "      <td>https://raw.githubusercontent.com/PokeAPI/spri...</td>\n",
       "      <td>[water]</td>\n",
       "      <td>59</td>\n",
       "      <td>63</td>\n",
       "      <td>80</td>\n",
       "      <td>65</td>\n",
       "      <td>80</td>\n",
       "      <td>58</td>\n",
       "      <td>67.500000</td>\n",
       "      <td>water</td>\n",
       "      <td>None</td>\n",
       "      <td>Tank</td>\n",
       "    </tr>\n",
       "    <tr>\n",
       "      <th>...</th>\n",
       "      <td>...</td>\n",
       "      <td>...</td>\n",
       "      <td>...</td>\n",
       "      <td>...</td>\n",
       "      <td>...</td>\n",
       "      <td>...</td>\n",
       "      <td>...</td>\n",
       "      <td>...</td>\n",
       "      <td>...</td>\n",
       "      <td>...</td>\n",
       "      <td>...</td>\n",
       "      <td>...</td>\n",
       "      <td>...</td>\n",
       "      <td>...</td>\n",
       "      <td>...</td>\n",
       "      <td>...</td>\n",
       "      <td>...</td>\n",
       "    </tr>\n",
       "    <tr>\n",
       "      <th>633</th>\n",
       "      <td>green</td>\n",
       "      <td>True</td>\n",
       "      <td>False</td>\n",
       "      <td>virizion</td>\n",
       "      <td>quadruped</td>\n",
       "      <td>https://raw.githubusercontent.com/PokeAPI/spri...</td>\n",
       "      <td>[grass, fighting]</td>\n",
       "      <td>91</td>\n",
       "      <td>90</td>\n",
       "      <td>72</td>\n",
       "      <td>90</td>\n",
       "      <td>129</td>\n",
       "      <td>108</td>\n",
       "      <td>96.666667</td>\n",
       "      <td>grass</td>\n",
       "      <td>fighting</td>\n",
       "      <td>SPAttacker</td>\n",
       "    </tr>\n",
       "    <tr>\n",
       "      <th>634</th>\n",
       "      <td>white</td>\n",
       "      <td>True</td>\n",
       "      <td>False</td>\n",
       "      <td>reshiram</td>\n",
       "      <td>wings</td>\n",
       "      <td>https://raw.githubusercontent.com/PokeAPI/spri...</td>\n",
       "      <td>[dragon, fire]</td>\n",
       "      <td>100</td>\n",
       "      <td>120</td>\n",
       "      <td>100</td>\n",
       "      <td>150</td>\n",
       "      <td>120</td>\n",
       "      <td>90</td>\n",
       "      <td>113.333333</td>\n",
       "      <td>dragon</td>\n",
       "      <td>fire</td>\n",
       "      <td>SPAttacker</td>\n",
       "    </tr>\n",
       "    <tr>\n",
       "      <th>635</th>\n",
       "      <td>black</td>\n",
       "      <td>True</td>\n",
       "      <td>False</td>\n",
       "      <td>zekrom</td>\n",
       "      <td>upright</td>\n",
       "      <td>https://raw.githubusercontent.com/PokeAPI/spri...</td>\n",
       "      <td>[dragon, electric]</td>\n",
       "      <td>100</td>\n",
       "      <td>150</td>\n",
       "      <td>120</td>\n",
       "      <td>120</td>\n",
       "      <td>100</td>\n",
       "      <td>90</td>\n",
       "      <td>113.333333</td>\n",
       "      <td>dragon</td>\n",
       "      <td>electric</td>\n",
       "      <td>SPAttacker</td>\n",
       "    </tr>\n",
       "    <tr>\n",
       "      <th>636</th>\n",
       "      <td>gray</td>\n",
       "      <td>True</td>\n",
       "      <td>False</td>\n",
       "      <td>kyurem</td>\n",
       "      <td>upright</td>\n",
       "      <td>https://raw.githubusercontent.com/PokeAPI/spri...</td>\n",
       "      <td>[dragon, ice]</td>\n",
       "      <td>125</td>\n",
       "      <td>130</td>\n",
       "      <td>90</td>\n",
       "      <td>130</td>\n",
       "      <td>90</td>\n",
       "      <td>95</td>\n",
       "      <td>110.000000</td>\n",
       "      <td>dragon</td>\n",
       "      <td>ice</td>\n",
       "      <td>SPAttacker</td>\n",
       "    </tr>\n",
       "    <tr>\n",
       "      <th>637</th>\n",
       "      <td>purple</td>\n",
       "      <td>False</td>\n",
       "      <td>True</td>\n",
       "      <td>genesect</td>\n",
       "      <td>humanoid</td>\n",
       "      <td>https://raw.githubusercontent.com/PokeAPI/spri...</td>\n",
       "      <td>[bug, steel]</td>\n",
       "      <td>71</td>\n",
       "      <td>120</td>\n",
       "      <td>95</td>\n",
       "      <td>120</td>\n",
       "      <td>95</td>\n",
       "      <td>99</td>\n",
       "      <td>100.000000</td>\n",
       "      <td>bug</td>\n",
       "      <td>steel</td>\n",
       "      <td>SPAttacker</td>\n",
       "    </tr>\n",
       "  </tbody>\n",
       "</table>\n",
       "<p>458 rows × 17 columns</p>\n",
       "</div>"
      ],
      "text/plain": [
       "      color  is_legendary  is_mythical        name      shape  \\\n",
       "1     green         False        False     ivysaur  quadruped   \n",
       "2     green         False        False    venusaur  quadruped   \n",
       "4       red         False        False  charmeleon    upright   \n",
       "5       red         False        False   charizard    upright   \n",
       "7      blue         False        False   wartortle    upright   \n",
       "..      ...           ...          ...         ...        ...   \n",
       "633   green          True        False    virizion  quadruped   \n",
       "634   white          True        False    reshiram      wings   \n",
       "635   black          True        False      zekrom    upright   \n",
       "636    gray          True        False      kyurem    upright   \n",
       "637  purple         False         True    genesect   humanoid   \n",
       "\n",
       "                                             image_url                type  \\\n",
       "1    https://raw.githubusercontent.com/PokeAPI/spri...     [grass, poison]   \n",
       "2    https://raw.githubusercontent.com/PokeAPI/spri...     [grass, poison]   \n",
       "4    https://raw.githubusercontent.com/PokeAPI/spri...              [fire]   \n",
       "5    https://raw.githubusercontent.com/PokeAPI/spri...      [fire, flying]   \n",
       "7    https://raw.githubusercontent.com/PokeAPI/spri...             [water]   \n",
       "..                                                 ...                 ...   \n",
       "633  https://raw.githubusercontent.com/PokeAPI/spri...   [grass, fighting]   \n",
       "634  https://raw.githubusercontent.com/PokeAPI/spri...      [dragon, fire]   \n",
       "635  https://raw.githubusercontent.com/PokeAPI/spri...  [dragon, electric]   \n",
       "636  https://raw.githubusercontent.com/PokeAPI/spri...       [dragon, ice]   \n",
       "637  https://raw.githubusercontent.com/PokeAPI/spri...        [bug, steel]   \n",
       "\n",
       "     base_hp  base_attack  base_defense  base_special_attack  \\\n",
       "1         60           62            63                   80   \n",
       "2         80           82            83                  100   \n",
       "4         58           64            58                   80   \n",
       "5         78           84            78                  109   \n",
       "7         59           63            80                   65   \n",
       "..       ...          ...           ...                  ...   \n",
       "633       91           90            72                   90   \n",
       "634      100          120           100                  150   \n",
       "635      100          150           120                  120   \n",
       "636      125          130            90                  130   \n",
       "637       71          120            95                  120   \n",
       "\n",
       "     base_special_defense  base_speed  status_mean   type1     type2  \\\n",
       "1                      80          60    67.500000   grass    poison   \n",
       "2                     100          80    87.500000   grass    poison   \n",
       "4                      65          80    67.500000    fire      None   \n",
       "5                      85         100    89.000000    fire    flying   \n",
       "7                      80          58    67.500000   water      None   \n",
       "..                    ...         ...          ...     ...       ...   \n",
       "633                   129         108    96.666667   grass  fighting   \n",
       "634                   120          90   113.333333  dragon      fire   \n",
       "635                   100          90   113.333333  dragon  electric   \n",
       "636                    90          95   110.000000  dragon       ice   \n",
       "637                    95          99   100.000000     bug     steel   \n",
       "\n",
       "           role  \n",
       "1          Tank  \n",
       "2    SPAttacker  \n",
       "4          Tank  \n",
       "5    SPAttacker  \n",
       "7          Tank  \n",
       "..          ...  \n",
       "633  SPAttacker  \n",
       "634  SPAttacker  \n",
       "635  SPAttacker  \n",
       "636  SPAttacker  \n",
       "637  SPAttacker  \n",
       "\n",
       "[458 rows x 17 columns]"
      ]
     },
     "execution_count": 12,
     "metadata": {},
     "output_type": "execute_result"
    }
   ],
   "source": [
    "pokedex_df_filtered_with_predict"
   ]
  },
  {
   "cell_type": "code",
   "execution_count": null,
   "metadata": {},
   "outputs": [],
   "source": []
  }
 ],
 "metadata": {
  "kernelspec": {
   "display_name": "Python 3 (ipykernel)",
   "language": "python",
   "name": "python3"
  },
  "language_info": {
   "codemirror_mode": {
    "name": "ipython",
    "version": 3
   },
   "file_extension": ".py",
   "mimetype": "text/x-python",
   "name": "python",
   "nbconvert_exporter": "python",
   "pygments_lexer": "ipython3",
   "version": "3.10.4"
  }
 },
 "nbformat": 4,
 "nbformat_minor": 1
}
