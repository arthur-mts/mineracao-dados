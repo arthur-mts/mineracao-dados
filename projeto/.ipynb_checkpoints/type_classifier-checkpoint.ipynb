{
 "cells": [
  {
   "cell_type": "code",
   "execution_count": 4,
   "metadata": {},
   "outputs": [],
   "source": [
    "import pandas as pd\n",
    "import numpy as np\n",
    "from ipynb.fs.full.extracao import damage_matrix, Types"
   ]
  },
  {
   "cell_type": "markdown",
   "metadata": {},
   "source": [
    "## Classificador de tipos"
   ]
  },
  {
   "cell_type": "markdown",
   "metadata": {},
   "source": [
    "Agora iremos arrumar um jeito de encontrar um Pokemon com o tipo complementar ao meu Pokemon incial."
   ]
  },
  {
   "cell_type": "code",
   "execution_count": 19,
   "metadata": {},
   "outputs": [],
   "source": [
    "pokemon = \"Charizard\"\n",
    "pokemon_types = [Types.Fire, Types.Flying]\n",
    "\n",
    "weak_against = []\n",
    "strong_against = []\n",
    "\n",
    "for cur_type in pokemon_types:\n",
    "    damage_multipliers_def = damage_matrix[:, cur_type.value]\n",
    "    for i in range(len(damage_multipliers_def)):\n",
    "        if (damage_multipliers_def[i] == 2.0):\n",
    "            weak_against.append(i)\n",
    "\n",
    "    damage_multipliers_atk = damage_matrix[cur_type.value]\n",
    "    for i in range(len(damage_multipliers_atk)):\n",
    "        if (damage_multipliers_atk[i] == 2.0):\n",
    "            strong_against.append(i)        "
   ]
  },
  {
   "cell_type": "code",
   "execution_count": 20,
   "metadata": {},
   "outputs": [
    {
     "name": "stdout",
     "output_type": "stream",
     "text": [
      "Charizard is weak against Water\n",
      "Charizard is weak against Ground\n",
      "Charizard is weak against Rock\n",
      "Charizard is weak against Electric\n",
      "Charizard is weak against Ice\n",
      "Charizard is weak against Rock\n",
      "\n",
      "\n",
      "Charizard is strong against Grass\n",
      "Charizard is strong against Ice\n",
      "Charizard is strong against Bug\n",
      "Charizard is strong against Steel\n",
      "Charizard is strong against Grass\n",
      "Charizard is strong against Fighting\n",
      "Charizard is strong against Bug\n"
     ]
    }
   ],
   "source": [
    "for i in weak_against:\n",
    "    print(f\"{pokemon} is weak against {Types(i).name}\")\n",
    "print(\"\\n\")\n",
    "for i in strong_against:\n",
    "    print(f\"{pokemon} is strong against {Types(i).name}\")"
   ]
  },
  {
   "cell_type": "markdown",
   "metadata": {},
   "source": [
    "Sabendo quais as fraquezas e efetividades do meu pokemon, irei buscar:\n",
    "- 3 pokemons imunes (ou fracos) as fraquezas do meu inicial. Irei escolher as fraquezes que são mais usadas no competitivo.\n",
    "- 2 pokemons superefetivos contra as fraquezas do meu inicial. Irei escolher as fraquezes que são mais usadas no competitivo."
   ]
  },
  {
   "cell_type": "code",
   "execution_count": null,
   "metadata": {},
   "outputs": [],
   "source": []
  }
 ],
 "metadata": {
  "kernelspec": {
   "display_name": "Python 3 (ipykernel)",
   "language": "python",
   "name": "python3"
  },
  "language_info": {
   "codemirror_mode": {
    "name": "ipython",
    "version": 3
   },
   "file_extension": ".py",
   "mimetype": "text/x-python",
   "name": "python",
   "nbconvert_exporter": "python",
   "pygments_lexer": "ipython3",
   "version": "3.10.4"
  }
 },
 "nbformat": 4,
 "nbformat_minor": 1
}
