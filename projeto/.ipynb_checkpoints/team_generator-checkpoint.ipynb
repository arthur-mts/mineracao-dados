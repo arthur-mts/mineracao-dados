{
 "cells": [
  {
   "cell_type": "code",
   "execution_count": 13,
   "metadata": {
    "ExecuteTime": {
     "end_time": "2023-06-02T02:37:38.068032200Z",
     "start_time": "2023-06-02T02:37:38.021032300Z"
    }
   },
   "outputs": [],
   "source": [
    "import pandas as pd\n",
    "import numpy as np\n",
    "from ipynb.fs.full.extracao import damage_matrix, Types, pokedex_df_filtered\n",
    "import matplotlib.pyplot as plt\n",
    "from imageio.v2 import imread\n",
    "from mpl_toolkits.axes_grid1 import ImageGrid\n",
    "pokedex_df_filtered_with_predict = pd.read_pickle('./pokedex_df_filtered_with_predict.pkl')"
   ]
  },
  {
   "cell_type": "markdown",
   "metadata": {},
   "source": [
    "# Gerador de times"
   ]
  },
  {
   "cell_type": "markdown",
   "metadata": {},
   "source": [
    "Agora iremos arrumar um jeito de encontrar um Pokemon com o tipo complementar ao meu Pokemon incial e montar o time baseado na nossa \"role\" de batalha gerada no outro notebook."
   ]
  },
  {
   "cell_type": "markdown",
   "metadata": {},
   "source": [
    "Sabendo quais as fraquezas e efetividades do meu pokemon, irei buscar:\n",
    "- 2 pokemons imunes (ou resistentes) as fraquezas do meu inicial. Irei escolher as fraquezes que são mais usadas no competitivo.\n",
    "- 3 pokemons superefetivos contra as fraquezas do meu inicial. Irei escolher as fraquezes que são mais usadas no competitivo."
   ]
  },
  {
   "cell_type": "markdown",
   "metadata": {},
   "source": [
    "Irei usar algum critério randomico para escolher tipos diferents para essas duas categorias e gerar mais de uma opção de time.  \n",
    "Por exemplo, para o Charizard posso escolher 3 Pokemons imunes aos tipos:\n",
    "- Water\n",
    "- Ground\n",
    "- Ice  \n",
    "\n",
    "ou\n",
    "\n",
    "- Rock\n",
    "- Eletric\n",
    "- Water"
   ]
  },
  {
   "cell_type": "markdown",
   "metadata": {},
   "source": [
    "## Implementando"
   ]
  },
  {
   "cell_type": "code",
   "execution_count": 2,
   "metadata": {
    "ExecuteTime": {
     "end_time": "2023-06-02T02:39:01.974416800Z",
     "start_time": "2023-06-02T02:39:01.941418Z"
    }
   },
   "outputs": [],
   "source": [
    "def validate_if_mon_choice_exists(desired_role, desired_type):\n",
    "    choices = pokedex_df_filtered_with_predict[(pokedex_df_filtered_with_predict.role == desired_role) & (pokedex_df_filtered_with_predict.type1 == Types(desired_type).name)]\n",
    "\n",
    "    return len(choices) > 0\n",
    "\n",
    "def generate_team(pokemon_name):\n",
    "    pokemon = pokedex_df_filtered_with_predict[pokedex_df_filtered_with_predict.name == pokemon_name]\n",
    "    pokemon_role = pokemon.role.values[0]\n",
    "    desired_roles = np.array(['tank' ,'tank', 'attacker', 'attacker', 'spattacker', 'spattacker'])\n",
    "    desired_roles = np.delete(desired_roles, np.where(desired_roles == pokemon_role)[0][0])\n",
    "\n",
    "    desired_defensive_roles = desired_roles[:2]\n",
    "    desired_offensive_roles = desired_roles[2:]\n",
    "\n",
    "    rng = np.random.default_rng()\n",
    "    type1 = Types[pokemon.type1.values[0]]\n",
    "    type2 = pokemon.type2.values[0]\n",
    "\n",
    "    pokemon_types = [type1]\n",
    "    if type2 is not None:\n",
    "        pokemon_types.append(type2)\n",
    "\n",
    "    damage_multipliers = np.empty(18)\n",
    "    damage_multipliers.fill(1)\n",
    "\n",
    "    for cur_type in pokemon_types:\n",
    "        damage_multipliers_def = damage_matrix[:, cur_type.value]\n",
    "        for i in range(len(damage_multipliers_def)):\n",
    "            damage_multipliers[i] = damage_multipliers[i] * damage_multipliers_def[i]\n",
    "\n",
    "\n",
    "\n",
    "    four_x_weak = np.argwhere(damage_multipliers == 4).flatten() ## Tipos que meu pokemon recebe 4x mais dano nos ataques\n",
    "    two_x_weak = np.argwhere(damage_multipliers == 2).flatten() ## Tipos que meu pokemon recebe 2x mais dano nos ataques\n",
    "\n",
    "    if len(four_x_weak) == 2:\n",
    "        weak_types = np.concatenate([rng.choice(four_x_weak, size = 2, replace=False)])\n",
    "    elif len(four_x_weak) == 1:\n",
    "        weak_types = np.concatenate([rng.choice(four_x_weak, size = 1, replace=False), rng.choice(two_x_weak, size = 1, replace=False)])\n",
    "    else:\n",
    "        if len(two_x_weak) == 1:\n",
    "            weak_types = [two_x_weak[0], two_x_weak[0]]\n",
    "        else:\n",
    "            weak_types = np.concatenate([rng.choice(two_x_weak, size = 2, replace=False)])\n",
    "\n",
    "    resistent_against_my_weak = np.array([])\n",
    "    print(\"Escolhendo tipos de pokemons defensivos\")\n",
    "    print(f\"{pokemon_name} é fraco contra: {[Types(i).name for i in weak_types]}\")\n",
    "\n",
    "    for i in range(len(weak_types)):\n",
    "        curr_resistent_type = None\n",
    "        damage_multiplier_def = damage_matrix[weak_types[i]]\n",
    "        immune_to = np.argwhere(damage_multiplier_def == 0.0).flatten()\n",
    "        resistent_to = np.argwhere(damage_multiplier_def == 0.5).flatten()\n",
    "        # print(f\"{[Types(j).name  for j in immune_to]} é imune contra: {  Types(weak_types[i]).name}\")\n",
    "        # print(f\"{[Types(j).name  for j in resistent_to]} é fraco contra: {  Types(weak_types[i]).name}\")\n",
    "\n",
    "\n",
    "        if len(immune_to) > 0:\n",
    "            curr_resistent_type = next((j for j in immune_to if validate_if_mon_choice_exists(desired_type = j, desired_role =  desired_defensive_roles[i])), None)\n",
    "        if len(immune_to) == 0 or curr_resistent_type is None:\n",
    "            # print(f\"validando se existe {desired_defensive_roles[i]} do tipo {[Types(j).name  for j in resistent_to]}\")\n",
    "            curr_resistent_type = next((j for j in resistent_to if validate_if_mon_choice_exists(desired_type = j, desired_role =  desired_defensive_roles[i]) and j not in resistent_against_my_weak), None)\n",
    "        resistent_against_my_weak = np.append(resistent_against_my_weak, curr_resistent_type)\n",
    "\n",
    "    print(\"Tipos defensivos escolhidos:\")\n",
    "    print([Types(i).name for i in resistent_against_my_weak])\n",
    "    strong_against_my_weak = np.array([])\n",
    "\n",
    "    if len(four_x_weak) == 2:\n",
    "        weak_types = np.concatenate([rng.choice(four_x_weak, size = 2, replace=False), rng.choice(two_x_weak, size = 1, replace=False)])\n",
    "    elif len(four_x_weak) == 1:\n",
    "        if len(two_x_weak) == 1:\n",
    "            weak_types = np.concatenate([rng.choice(four_x_weak, size = 1, replace=False), np.array([two_x_weak[0], two_x_weak[0]])])\n",
    "        else:\n",
    "            weak_types = np.concatenate([rng.choice(four_x_weak, size = 1, replace=False), rng.choice(two_x_weak, size = 2, replace=False)])\n",
    "    else:\n",
    "        if len(two_x_weak) == 1:\n",
    "            weak_types = np.array([two_x_weak[0], two_x_weak[0], two_x_weak[0]])\n",
    "        else:\n",
    "            weak_types = np.concatenate([rng.choice(two_x_weak, size = 3, replace=False)])\n",
    "    print(\"\\n\")\n",
    "    print(\"Escolhendo tipos de pokemons ofensivos\")\n",
    "    print(f\"{pokemon_name} é fraco contra: {[Types(i).name for i in weak_types]}\")\n",
    "\n",
    "    for i in range(len(weak_types)):\n",
    "        damage_multiplier_atk = damage_matrix[:, weak_types[i]]\n",
    "        strong_against = np.argwhere(damage_multiplier_atk == 2.).flatten()\n",
    "\n",
    "        # print(f\"{[Types(j).name  for j in strong_against]} é forte contra: {  Types(weak_types[i]).name}\")\n",
    "        choice = next((j for j in strong_against if validate_if_mon_choice_exists(desired_type= j, desired_role= desired_offensive_roles[i]) and j not in strong_against_my_weak), None)\n",
    "        strong_against_my_weak = np.append(strong_against_my_weak, choice)\n",
    "\n",
    "    print(\"Tipos ofensivos escolhidos:\")\n",
    "    print([Types(i).name for i in strong_against_my_weak])\n",
    "    pkmn1 = pokedex_df_filtered_with_predict[(pokedex_df_filtered_with_predict.role == desired_defensive_roles[0]) &\n",
    "                                             (pokedex_df_filtered.type1 == Types(resistent_against_my_weak[0]).name)].sample(1)\n",
    "    pkmn2 = pokedex_df_filtered_with_predict[(pokedex_df_filtered_with_predict.role == desired_defensive_roles[1]) &\n",
    "                                             (pokedex_df_filtered.type1 == Types(resistent_against_my_weak[1]).name)].sample(1)\n",
    "\n",
    "    pkmn3 = pokedex_df_filtered_with_predict[(pokedex_df_filtered_with_predict.role == desired_offensive_roles[0]) &\n",
    "                                             (pokedex_df_filtered.type1 == Types(strong_against_my_weak[0]).name)].sample(1)\n",
    "\n",
    "    pkmn4 = pokedex_df_filtered_with_predict[(pokedex_df_filtered_with_predict.role == desired_offensive_roles[1]) &\n",
    "                                             (pokedex_df_filtered.type1 == Types(strong_against_my_weak[1]).name)].sample(1)\n",
    "    pkmn5 = pokedex_df_filtered_with_predict[(pokedex_df_filtered_with_predict.role == desired_offensive_roles[2]) &\n",
    "                                             (pokedex_df_filtered.type1 == Types(strong_against_my_weak[2]).name)].sample(1)\n",
    "\n",
    "    return pd.concat([pokemon, pkmn1, pkmn2, pkmn3, pkmn4, pkmn5]).reset_index()"
   ]
  },
  {
   "cell_type": "code",
   "execution_count": 35,
   "metadata": {
    "ExecuteTime": {
     "end_time": "2023-06-02T02:39:02.481418600Z",
     "start_time": "2023-06-02T02:39:02.356418400Z"
    }
   },
   "outputs": [
    {
     "ename": "AttributeError",
     "evalue": "'str' object has no attribute 'value'",
     "output_type": "error",
     "traceback": [
      "\u001b[1;31m---------------------------------------------------------------------------\u001b[0m",
      "\u001b[1;31mAttributeError\u001b[0m                            Traceback (most recent call last)",
      "Cell \u001b[1;32mIn[35], line 3\u001b[0m\n\u001b[0;32m      1\u001b[0m teams \u001b[38;5;241m=\u001b[39m []\n\u001b[0;32m      2\u001b[0m \u001b[38;5;28;01mfor\u001b[39;00m i \u001b[38;5;129;01min\u001b[39;00m \u001b[38;5;28mrange\u001b[39m(\u001b[38;5;241m4\u001b[39m):\n\u001b[1;32m----> 3\u001b[0m     teams\u001b[38;5;241m.\u001b[39mappend(\u001b[43mgenerate_team\u001b[49m\u001b[43m(\u001b[49m\u001b[38;5;124;43m\"\u001b[39;49m\u001b[38;5;124;43mcharizard\u001b[39;49m\u001b[38;5;124;43m\"\u001b[39;49m\u001b[43m)\u001b[49m)\n\u001b[0;32m      4\u001b[0m \u001b[38;5;66;03m## TODO: capturar cobertura de superefetivos/fraquezas de cada time e passar por um modelo para checar qual é o melhore\u001b[39;00m\n",
      "Cell \u001b[1;32mIn[2], line 27\u001b[0m, in \u001b[0;36mgenerate_team\u001b[1;34m(pokemon_name)\u001b[0m\n\u001b[0;32m     24\u001b[0m damage_multipliers\u001b[38;5;241m.\u001b[39mfill(\u001b[38;5;241m1\u001b[39m)\n\u001b[0;32m     26\u001b[0m \u001b[38;5;28;01mfor\u001b[39;00m cur_type \u001b[38;5;129;01min\u001b[39;00m pokemon_types:\n\u001b[1;32m---> 27\u001b[0m     damage_multipliers_def \u001b[38;5;241m=\u001b[39m damage_matrix[:, \u001b[43mcur_type\u001b[49m\u001b[38;5;241;43m.\u001b[39;49m\u001b[43mvalue\u001b[49m]\n\u001b[0;32m     28\u001b[0m     \u001b[38;5;28;01mfor\u001b[39;00m i \u001b[38;5;129;01min\u001b[39;00m \u001b[38;5;28mrange\u001b[39m(\u001b[38;5;28mlen\u001b[39m(damage_multipliers_def)):\n\u001b[0;32m     29\u001b[0m         damage_multipliers[i] \u001b[38;5;241m=\u001b[39m damage_multipliers[i] \u001b[38;5;241m*\u001b[39m damage_multipliers_def[i]\n",
      "\u001b[1;31mAttributeError\u001b[0m: 'str' object has no attribute 'value'"
     ]
    }
   ],
   "source": [
    "teams = []\n",
    "for i in range(4):\n",
    "    teams.append(generate_team(\"charizard\"))\n",
    "## TODO: capturar cobertura de superefetivos/fraquezas de cada time e passar por um modelo para checar qual é o melhore"
   ]
  },
  {
   "cell_type": "code",
   "execution_count": 36,
   "metadata": {
    "ExecuteTime": {
     "end_time": "2023-06-02T02:39:36.157419100Z",
     "start_time": "2023-06-02T02:39:08.277418300Z"
    }
   },
   "outputs": [
    {
     "ename": "IndexError",
     "evalue": "list index out of range",
     "output_type": "error",
     "traceback": [
      "\u001b[1;31m---------------------------------------------------------------------------\u001b[0m",
      "\u001b[1;31mIndexError\u001b[0m                                Traceback (most recent call last)",
      "Cell \u001b[1;32mIn[36], line 2\u001b[0m\n\u001b[0;32m      1\u001b[0m fig \u001b[38;5;241m=\u001b[39m plt\u001b[38;5;241m.\u001b[39mfigure(figsize\u001b[38;5;241m=\u001b[39m(\u001b[38;5;241m12.\u001b[39m, \u001b[38;5;241m10.\u001b[39m))\n\u001b[1;32m----> 2\u001b[0m grid \u001b[38;5;241m=\u001b[39m \u001b[43mImageGrid\u001b[49m\u001b[43m(\u001b[49m\u001b[43mfig\u001b[49m\u001b[43m,\u001b[49m\u001b[43m \u001b[49m\u001b[38;5;241;43m111\u001b[39;49m\u001b[43m,\u001b[49m\u001b[43m  \u001b[49m\u001b[38;5;66;43;03m# similar to subplot(111)\u001b[39;49;00m\n\u001b[0;32m      3\u001b[0m \u001b[43m                 \u001b[49m\u001b[43mnrows_ncols\u001b[49m\u001b[38;5;241;43m=\u001b[39;49m\u001b[43m(\u001b[49m\u001b[38;5;28;43mlen\u001b[39;49m\u001b[43m(\u001b[49m\u001b[43mteams\u001b[49m\u001b[43m)\u001b[49m\u001b[43m,\u001b[49m\u001b[43m \u001b[49m\u001b[38;5;241;43m6\u001b[39;49m\u001b[43m)\u001b[49m\u001b[43m,\u001b[49m\u001b[43m  \u001b[49m\u001b[38;5;66;43;03m# creates 2x2 grid of axes\u001b[39;49;00m\n\u001b[0;32m      4\u001b[0m \u001b[43m                 \u001b[49m\u001b[43maxes_pad\u001b[49m\u001b[38;5;241;43m=\u001b[39;49m\u001b[38;5;241;43m0.2\u001b[39;49m\u001b[43m,\u001b[49m\u001b[43m  \u001b[49m\u001b[38;5;66;43;03m# pad between axes in inch.\u001b[39;49;00m\n\u001b[0;32m      5\u001b[0m \u001b[43m                 \u001b[49m\u001b[43m)\u001b[49m\n\u001b[0;32m      7\u001b[0m cnt \u001b[38;5;241m=\u001b[39m \u001b[38;5;241m0\u001b[39m\n\u001b[0;32m      8\u001b[0m \u001b[38;5;28;01mfor\u001b[39;00m team_idx \u001b[38;5;129;01min\u001b[39;00m \u001b[38;5;28mrange\u001b[39m(\u001b[38;5;28mlen\u001b[39m(teams)):\n",
      "File \u001b[1;32m~\\AppData\\Local\\Programs\\Python\\Python39\\lib\\site-packages\\mpl_toolkits\\axes_grid1\\axes_grid.py:394\u001b[0m, in \u001b[0;36mImageGrid.__init__\u001b[1;34m(self, fig, rect, nrows_ncols, ngrids, direction, axes_pad, share_all, aspect, label_mode, cbar_mode, cbar_location, cbar_pad, cbar_size, cbar_set_cax, axes_class)\u001b[0m\n\u001b[0;32m    391\u001b[0m \u001b[38;5;28mself\u001b[39m\u001b[38;5;241m.\u001b[39m_colorbar_size \u001b[38;5;241m=\u001b[39m cbar_size\n\u001b[0;32m    392\u001b[0m \u001b[38;5;66;03m# The colorbar axes are created in _init_locators().\u001b[39;00m\n\u001b[1;32m--> 394\u001b[0m \u001b[38;5;28;43msuper\u001b[39;49m\u001b[43m(\u001b[49m\u001b[43m)\u001b[49m\u001b[38;5;241;43m.\u001b[39;49m\u001b[38;5;21;43m__init__\u001b[39;49m\u001b[43m(\u001b[49m\n\u001b[0;32m    395\u001b[0m \u001b[43m    \u001b[49m\u001b[43mfig\u001b[49m\u001b[43m,\u001b[49m\u001b[43m \u001b[49m\u001b[43mrect\u001b[49m\u001b[43m,\u001b[49m\u001b[43m \u001b[49m\u001b[43mnrows_ncols\u001b[49m\u001b[43m,\u001b[49m\u001b[43m \u001b[49m\u001b[43mngrids\u001b[49m\u001b[43m,\u001b[49m\n\u001b[0;32m    396\u001b[0m \u001b[43m    \u001b[49m\u001b[43mdirection\u001b[49m\u001b[38;5;241;43m=\u001b[39;49m\u001b[43mdirection\u001b[49m\u001b[43m,\u001b[49m\u001b[43m \u001b[49m\u001b[43maxes_pad\u001b[49m\u001b[38;5;241;43m=\u001b[39;49m\u001b[43maxes_pad\u001b[49m\u001b[43m,\u001b[49m\n\u001b[0;32m    397\u001b[0m \u001b[43m    \u001b[49m\u001b[43mshare_all\u001b[49m\u001b[38;5;241;43m=\u001b[39;49m\u001b[43mshare_all\u001b[49m\u001b[43m,\u001b[49m\u001b[43m \u001b[49m\u001b[43mshare_x\u001b[49m\u001b[38;5;241;43m=\u001b[39;49m\u001b[38;5;28;43;01mTrue\u001b[39;49;00m\u001b[43m,\u001b[49m\u001b[43m \u001b[49m\u001b[43mshare_y\u001b[49m\u001b[38;5;241;43m=\u001b[39;49m\u001b[38;5;28;43;01mTrue\u001b[39;49;00m\u001b[43m,\u001b[49m\u001b[43m \u001b[49m\u001b[43maspect\u001b[49m\u001b[38;5;241;43m=\u001b[39;49m\u001b[43maspect\u001b[49m\u001b[43m,\u001b[49m\n\u001b[0;32m    398\u001b[0m \u001b[43m    \u001b[49m\u001b[43mlabel_mode\u001b[49m\u001b[38;5;241;43m=\u001b[39;49m\u001b[43mlabel_mode\u001b[49m\u001b[43m,\u001b[49m\u001b[43m \u001b[49m\u001b[43maxes_class\u001b[49m\u001b[38;5;241;43m=\u001b[39;49m\u001b[43maxes_class\u001b[49m\u001b[43m)\u001b[49m\n\u001b[0;32m    400\u001b[0m \u001b[38;5;28;01mfor\u001b[39;00m ax \u001b[38;5;129;01min\u001b[39;00m \u001b[38;5;28mself\u001b[39m\u001b[38;5;241m.\u001b[39mcbar_axes:\n\u001b[0;32m    401\u001b[0m     fig\u001b[38;5;241m.\u001b[39madd_axes(ax)\n",
      "File \u001b[1;32m~\\AppData\\Local\\Programs\\Python\\Python39\\lib\\site-packages\\mpl_toolkits\\axes_grid1\\axes_grid.py:164\u001b[0m, in \u001b[0;36mGrid.__init__\u001b[1;34m(self, fig, rect, nrows_ncols, ngrids, direction, axes_pad, share_all, share_x, share_y, label_mode, axes_class, aspect)\u001b[0m\n\u001b[0;32m    162\u001b[0m \u001b[38;5;28mself\u001b[39m\u001b[38;5;241m.\u001b[39maxes_column \u001b[38;5;241m=\u001b[39m axes_array\u001b[38;5;241m.\u001b[39mT\u001b[38;5;241m.\u001b[39mtolist()\n\u001b[0;32m    163\u001b[0m \u001b[38;5;28mself\u001b[39m\u001b[38;5;241m.\u001b[39maxes_row \u001b[38;5;241m=\u001b[39m axes_array\u001b[38;5;241m.\u001b[39mtolist()\n\u001b[1;32m--> 164\u001b[0m \u001b[38;5;28mself\u001b[39m\u001b[38;5;241m.\u001b[39maxes_llc \u001b[38;5;241m=\u001b[39m \u001b[38;5;28;43mself\u001b[39;49m\u001b[38;5;241;43m.\u001b[39;49m\u001b[43maxes_column\u001b[49m\u001b[43m[\u001b[49m\u001b[38;5;241;43m0\u001b[39;49m\u001b[43m]\u001b[49m\u001b[43m[\u001b[49m\u001b[38;5;241;43m-\u001b[39;49m\u001b[38;5;241;43m1\u001b[39;49m\u001b[43m]\u001b[49m\n\u001b[0;32m    166\u001b[0m \u001b[38;5;28mself\u001b[39m\u001b[38;5;241m.\u001b[39m_init_locators()\n\u001b[0;32m    168\u001b[0m \u001b[38;5;28;01mfor\u001b[39;00m ax \u001b[38;5;129;01min\u001b[39;00m \u001b[38;5;28mself\u001b[39m\u001b[38;5;241m.\u001b[39maxes_all:\n",
      "\u001b[1;31mIndexError\u001b[0m: list index out of range"
     ]
    },
    {
     "data": {
      "text/plain": [
       "<Figure size 1200x1000 with 0 Axes>"
      ]
     },
     "metadata": {},
     "output_type": "display_data"
    }
   ],
   "source": [
    "fig = plt.figure(figsize=(12., 10.))\n",
    "grid = ImageGrid(fig, 111,  # similar to subplot(111)\n",
    "                 nrows_ncols=(len(teams), 6),  # creates 2x2 grid of axes\n",
    "                 axes_pad=0.2,  # pad between axes in inch.\n",
    "                 )\n",
    "\n",
    "cnt = 0\n",
    "for team_idx in range(len(teams)):\n",
    "\n",
    "    for i, pokemon in teams[team_idx].iterrows():\n",
    "        image_url = pokemon[\"image_url\"]\n",
    "        image_file = imread(image_url)\n",
    "        name = pokemon[\"name\"]\n",
    "        role = pokemon[\"role\"]\n",
    "        grid[cnt].text(10, 5, role, bbox={'facecolor': 'white', 'pad': 1})\n",
    "        grid[cnt].imshow(image_file)\n",
    "        cnt += 1\n",
    "\n",
    "plt.show()"
   ]
  },
  {
   "cell_type": "code",
   "execution_count": null,
   "metadata": {},
   "outputs": [],
   "source": []
  }
 ],
 "metadata": {
  "kernelspec": {
   "display_name": "Python 3 (ipykernel)",
   "language": "python",
   "name": "python3"
  },
  "language_info": {
   "codemirror_mode": {
    "name": "ipython",
    "version": 3
   },
   "file_extension": ".py",
   "mimetype": "text/x-python",
   "name": "python",
   "nbconvert_exporter": "python",
   "pygments_lexer": "ipython3",
   "version": "3.9.10"
  }
 },
 "nbformat": 4,
 "nbformat_minor": 1
}
