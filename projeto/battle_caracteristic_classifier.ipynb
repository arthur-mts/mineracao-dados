{
 "cells": [
  {
   "cell_type": "code",
   "execution_count": 82,
   "id": "415a4694",
   "metadata": {
    "pycharm": {
     "name": "#%%\n"
    }
   },
   "outputs": [],
   "source": [
    "from ipynb.fs.full.extracao import fetch_pokedex, damage_matrix, Types\n",
    "import numpy as np\n",
    "import pandas as pd\n",
    "from enum import Enum\n",
    "from sklearn.linear_model import LogisticRegression\n",
    "from sklearn.preprocessing import StandardScaler\n",
    "from sklearn.pipeline import make_pipeline\n",
    "from sklearn.metrics import confusion_matrix\n",
    "from sklearn.model_selection import train_test_split\n",
    "import seaborn as sn\n",
    "import matplotlib.pyplot as plt\n",
    "from sklearn import svm\n",
    "from sklearn import tree"
   ]
  },
  {
   "cell_type": "code",
   "execution_count": 83,
   "outputs": [],
   "source": [
    "class BattleRole(Enum):\n",
    "    Attacker = \"Attacker\"\n",
    "    SPAttacker = \"SPAttacker\"\n",
    "    Tank = \"Tank\"\n",
    "    Balanced = \"Balanced\""
   ],
   "metadata": {
    "collapsed": false,
    "pycharm": {
     "name": "#%%\n"
    }
   }
  },
  {
   "cell_type": "code",
   "execution_count": 84,
   "id": "dd131f41",
   "metadata": {
    "pycharm": {
     "name": "#%%\n"
    }
   },
   "outputs": [],
   "source": [
    "status_columns = [\"base_hp\", \"base_attack\", \"base_defense\", \"base_special_attack\", \"base_special_defense\", \"base_speed\"]\n",
    "pokedex_df = fetch_pokedex()"
   ]
  },
  {
   "cell_type": "code",
   "execution_count": 85,
   "id": "52093996",
   "metadata": {
    "pycharm": {
     "name": "#%%\n"
    }
   },
   "outputs": [
    {
     "data": {
      "text/plain": "   color  is_legendary  is_mythical        name      shape  \\\n0  green         False        False   bulbasaur  quadruped   \n1  green         False        False     ivysaur  quadruped   \n2  green         False        False    venusaur  quadruped   \n3    red         False        False  charmander    upright   \n4    red         False        False  charmeleon    upright   \n\n                                           image_url  base_hp  base_attack  \\\n0  https://raw.githubusercontent.com/PokeAPI/spri...       45           49   \n1  https://raw.githubusercontent.com/PokeAPI/spri...       60           62   \n2  https://raw.githubusercontent.com/PokeAPI/spri...       80           82   \n3  https://raw.githubusercontent.com/PokeAPI/spri...       39           52   \n4  https://raw.githubusercontent.com/PokeAPI/spri...       58           64   \n\n   base_defense  base_special_attack  base_special_defense  base_speed  \n0            49                   65                    65          45  \n1            63                   80                    80          60  \n2            83                  100                   100          80  \n3            43                   60                    50          65  \n4            58                   80                    65          80  ",
      "text/html": "<div>\n<style scoped>\n    .dataframe tbody tr th:only-of-type {\n        vertical-align: middle;\n    }\n\n    .dataframe tbody tr th {\n        vertical-align: top;\n    }\n\n    .dataframe thead th {\n        text-align: right;\n    }\n</style>\n<table border=\"1\" class=\"dataframe\">\n  <thead>\n    <tr style=\"text-align: right;\">\n      <th></th>\n      <th>color</th>\n      <th>is_legendary</th>\n      <th>is_mythical</th>\n      <th>name</th>\n      <th>shape</th>\n      <th>image_url</th>\n      <th>base_hp</th>\n      <th>base_attack</th>\n      <th>base_defense</th>\n      <th>base_special_attack</th>\n      <th>base_special_defense</th>\n      <th>base_speed</th>\n    </tr>\n  </thead>\n  <tbody>\n    <tr>\n      <th>0</th>\n      <td>green</td>\n      <td>False</td>\n      <td>False</td>\n      <td>bulbasaur</td>\n      <td>quadruped</td>\n      <td>https://raw.githubusercontent.com/PokeAPI/spri...</td>\n      <td>45</td>\n      <td>49</td>\n      <td>49</td>\n      <td>65</td>\n      <td>65</td>\n      <td>45</td>\n    </tr>\n    <tr>\n      <th>1</th>\n      <td>green</td>\n      <td>False</td>\n      <td>False</td>\n      <td>ivysaur</td>\n      <td>quadruped</td>\n      <td>https://raw.githubusercontent.com/PokeAPI/spri...</td>\n      <td>60</td>\n      <td>62</td>\n      <td>63</td>\n      <td>80</td>\n      <td>80</td>\n      <td>60</td>\n    </tr>\n    <tr>\n      <th>2</th>\n      <td>green</td>\n      <td>False</td>\n      <td>False</td>\n      <td>venusaur</td>\n      <td>quadruped</td>\n      <td>https://raw.githubusercontent.com/PokeAPI/spri...</td>\n      <td>80</td>\n      <td>82</td>\n      <td>83</td>\n      <td>100</td>\n      <td>100</td>\n      <td>80</td>\n    </tr>\n    <tr>\n      <th>3</th>\n      <td>red</td>\n      <td>False</td>\n      <td>False</td>\n      <td>charmander</td>\n      <td>upright</td>\n      <td>https://raw.githubusercontent.com/PokeAPI/spri...</td>\n      <td>39</td>\n      <td>52</td>\n      <td>43</td>\n      <td>60</td>\n      <td>50</td>\n      <td>65</td>\n    </tr>\n    <tr>\n      <th>4</th>\n      <td>red</td>\n      <td>False</td>\n      <td>False</td>\n      <td>charmeleon</td>\n      <td>upright</td>\n      <td>https://raw.githubusercontent.com/PokeAPI/spri...</td>\n      <td>58</td>\n      <td>64</td>\n      <td>58</td>\n      <td>80</td>\n      <td>65</td>\n      <td>80</td>\n    </tr>\n  </tbody>\n</table>\n</div>"
     },
     "execution_count": 85,
     "metadata": {},
     "output_type": "execute_result"
    }
   ],
   "source": [
    "pokedex_df.head()"
   ]
  },
  {
   "cell_type": "code",
   "execution_count": 86,
   "outputs": [],
   "source": [
    "pokemon_by_role = {\n",
    "    \"SPAttacker\": [\"gardevoir\", \"slowbro\", \"tangela\", \"manaphy\", \"sceptile\", \"gengar\", \"alakazam\", \"mew\"],\n",
    "    ##, \"keldeo\"\n",
    "    \"Attacker\": [\"crawdaunt\", \"talonflame\", \"garchomp\", \"weavile\", \"infernape\"],\n",
    "    \"Balanced\": [\"excadrill\", \"tyranitar\", \"tangrowth\", \"scizor\"],\n",
    "    \"Tank\": [\"clefable\", \"tyranitar\", \"gastrodon\", \"chansey\", \"gliscor\"]\n",
    "}"
   ],
   "metadata": {
    "collapsed": false,
    "pycharm": {
     "name": "#%%\n"
    }
   }
  },
  {
   "cell_type": "code",
   "execution_count": 87,
   "outputs": [],
   "source": [
    "train_data = pd.DataFrame(\n",
    "    columns=status_columns + [\"role\"]\n",
    ")"
   ],
   "metadata": {
    "collapsed": false,
    "pycharm": {
     "name": "#%%\n"
    }
   }
  },
  {
   "cell_type": "code",
   "execution_count": 88,
   "outputs": [],
   "source": [
    "for key in pokemon_by_role.keys():\n",
    "    pokemons = pokemon_by_role[key]\n",
    "\n",
    "    for pokemon in pokemons:\n",
    "        pokemon_data = pokedex_df[pokedex_df[\"name\"] == pokemon]\n",
    "        row = {\n",
    "            \"role\": key\n",
    "        }\n",
    "        for status in status_columns:\n",
    "            row[status] = pokemon_data[status].values[0]\n",
    "        row_series = pd.Series(row)\n",
    "        train_data = pd.concat(\n",
    "            [train_data, row_series.to_frame().T],\n",
    "            ignore_index=True\n",
    "        )"
   ],
   "metadata": {
    "collapsed": false,
    "pycharm": {
     "name": "#%%\n"
    }
   }
  },
  {
   "cell_type": "code",
   "execution_count": 89,
   "outputs": [
    {
     "data": {
      "text/plain": "0.8333333333333334"
     },
     "execution_count": 89,
     "metadata": {},
     "output_type": "execute_result"
    }
   ],
   "source": [
    "#SVM e Arvore de decisão\n",
    "X_train, X_test, y_train, y_test = train_test_split(train_data[status_columns], train_data[\"role\"], random_state=2)\n",
    "pipeline = make_pipeline(StandardScaler(), LogisticRegression())\n",
    "# pipeline = make_pipeline(svm.SVC())\n",
    "# pipeline = make_pipeline(tree.DecisionTreeClassifier())\n",
    "pipeline.fit(X_train, y_train)\n",
    "pipeline.score(X_test, y_test)"
   ],
   "metadata": {
    "collapsed": false,
    "pycharm": {
     "name": "#%%\n"
    }
   }
  },
  {
   "cell_type": "code",
   "execution_count": 90,
   "outputs": [
    {
     "data": {
      "text/plain": "<AxesSubplot: >"
     },
     "execution_count": 90,
     "metadata": {},
     "output_type": "execute_result"
    },
    {
     "data": {
      "text/plain": "<Figure size 500x700 with 2 Axes>",
      "image/png": "[encoded data removed]"
     },
     "metadata": {},
     "output_type": "display_data"
    }
   ],
   "source": [
    "y_pred = pipeline.predict(X_test)\n",
    "conf_matrix = confusion_matrix(y_test, y_pred)\n",
    "plt.figure(figsize = (5,7))\n",
    "sn.heatmap(conf_matrix, annot=True)"
   ],
   "metadata": {
    "collapsed": false,
    "pycharm": {
     "name": "#%%\n"
    }
   }
  },
  {
   "cell_type": "code",
   "execution_count": 91,
   "outputs": [
    {
     "name": "stdout",
     "output_type": "stream",
     "text": [
      "treecko\n",
      "https://raw.githubusercontent.com/PokeAPI/sprites/master/sprites/pokemon/252.png\n",
      "['Attacker']\n",
      "sentret\n",
      "https://raw.githubusercontent.com/PokeAPI/sprites/master/sprites/pokemon/161.png\n",
      "['Balanced']\n",
      "amaura\n",
      "https://raw.githubusercontent.com/PokeAPI/sprites/master/sprites/pokemon/698.png\n",
      "['Tank']\n",
      "sigilyph\n",
      "https://raw.githubusercontent.com/PokeAPI/sprites/master/sprites/pokemon/561.png\n",
      "['SPAttacker']\n",
      "magmar\n",
      "https://raw.githubusercontent.com/PokeAPI/sprites/master/sprites/pokemon/126.png\n",
      "['SPAttacker']\n",
      "aggron\n",
      "https://raw.githubusercontent.com/PokeAPI/sprites/master/sprites/pokemon/306.png\n",
      "['Balanced']\n",
      "linoone\n",
      "https://raw.githubusercontent.com/PokeAPI/sprites/master/sprites/pokemon/264.png\n",
      "['Attacker']\n",
      "sliggoo\n",
      "https://raw.githubusercontent.com/PokeAPI/sprites/master/sprites/pokemon/705.png\n",
      "['SPAttacker']\n",
      "hoothoot\n",
      "https://raw.githubusercontent.com/PokeAPI/sprites/master/sprites/pokemon/163.png\n",
      "['Tank']\n",
      "donphan\n",
      "https://raw.githubusercontent.com/PokeAPI/sprites/master/sprites/pokemon/232.png\n",
      "['Balanced']\n"
     ]
    }
   ],
   "source": [
    "pokedex_df_sample = pokedex_df.sample(n = 10)\n",
    "for idx in pokedex_df_sample.index:\n",
    "    name = pokedex_df_sample.loc[idx][\"name\"]\n",
    "    image = pokedex_df_sample.loc[idx][\"image_url\"]\n",
    "    statuses = pokedex_df_sample.loc[idx][status_columns].to_frame().T\n",
    "    print(name)\n",
    "    print(image)\n",
    "    print(pipeline.predict(statuses))"
   ],
   "metadata": {
    "collapsed": false,
    "pycharm": {
     "name": "#%%\n"
    }
   }
  },
  {
   "cell_type": "code",
   "execution_count": 92,
   "outputs": [
    {
     "data": {
      "text/plain": "array(['Attacker'], dtype=object)"
     },
     "execution_count": 92,
     "metadata": {},
     "output_type": "execute_result"
    }
   ],
   "source": [
    "pipeline.predict(pokedex_df[pokedex_df[\"name\"] == \"blaziken\"][status_columns])"
   ],
   "metadata": {
    "collapsed": false,
    "pycharm": {
     "name": "#%%\n"
    }
   }
  },
  {
   "cell_type": "code",
   "execution_count": 93,
   "outputs": [
    {
     "data": {
      "text/plain": "array(['Tank'], dtype=object)"
     },
     "execution_count": 93,
     "metadata": {},
     "output_type": "execute_result"
    }
   ],
   "source": [
    "pipeline.predict(pokedex_df[pokedex_df[\"name\"] == \"snorlax\"][status_columns])"
   ],
   "metadata": {
    "collapsed": false,
    "pycharm": {
     "name": "#%%\n"
    }
   }
  },
  {
   "cell_type": "code",
   "execution_count": 94,
   "outputs": [
    {
     "data": {
      "text/plain": "array(['SPAttacker'], dtype=object)"
     },
     "execution_count": 94,
     "metadata": {},
     "output_type": "execute_result"
    }
   ],
   "source": [
    "pipeline.predict(pokedex_df[pokedex_df[\"name\"] == \"alakazam\"][status_columns])"
   ],
   "metadata": {
    "collapsed": false,
    "pycharm": {
     "name": "#%%\n"
    }
   }
  },
  {
   "cell_type": "code",
   "execution_count": 94,
   "outputs": [],
   "source": [],
   "metadata": {
    "collapsed": false,
    "pycharm": {
     "name": "#%%\n"
    }
   }
  }
 ],
 "metadata": {
  "kernelspec": {
   "display_name": "Python 3 (ipykernel)",
   "language": "python",
   "name": "python3"
  },
  "language_info": {
   "codemirror_mode": {
    "name": "ipython",
    "version": 3
   },
   "file_extension": ".py",
   "mimetype": "text/x-python",
   "name": "python",
   "nbconvert_exporter": "python",
   "pygments_lexer": "ipython3",
   "version": "3.10.4"
  }
 },
 "nbformat": 4,
 "nbformat_minor": 5
}