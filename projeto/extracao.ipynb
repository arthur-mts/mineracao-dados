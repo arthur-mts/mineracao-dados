{
 "cells": [
  {
   "cell_type": "code",
   "execution_count": 2,
   "id": "bff2de5c",
   "metadata": {
    "pycharm": {
     "name": "#%%\n"
    },
    "ExecuteTime": {
     "end_time": "2023-06-05T23:32:40.701131300Z",
     "start_time": "2023-06-05T23:32:39.553493500Z"
    }
   },
   "outputs": [],
   "source": [
    "import numpy as np\n",
    "import matplotlib.pyplot as plt\n",
    "import pandas as pd\n",
    "import requests\n",
    "from enum import Enum\n",
    "status_columns = [\"base_hp\", \"base_attack\", \"base_defense\", \"base_special_attack\", \"base_special_defense\", \"base_speed\"]"
   ]
  },
  {
   "cell_type": "markdown",
   "id": "b86a06e8",
   "metadata": {},
   "source": [
    "# Extração \n",
    "Essa função faz o download de todos os pokemons (dado um range que respeite a National Dex) a partir da [pokeapi](https://pokeapi.co/)"
   ]
  },
  {
   "cell_type": "code",
   "execution_count": 3,
   "id": "73f513c1",
   "metadata": {
    "pycharm": {
     "name": "#%%\n"
    },
    "ExecuteTime": {
     "end_time": "2023-06-05T23:32:40.716756800Z",
     "start_time": "2023-06-05T23:32:40.701131300Z"
    }
   },
   "outputs": [],
   "source": [
    "def fetch_pokedex_from_pokeapi(init, end):\n",
    "    data = []\n",
    "    for i in range(init, end + 1):\n",
    "        # Capturando informações sobre o Pokemon\n",
    "        res = requests.get(f\"https://pokeapi.co/api/v2/pokemon-species/{i}\").json()\n",
    "        color = res[\"color\"][\"name\"]\n",
    "        is_legendary = res[\"is_legendary\"]\n",
    "        is_mythical = res[\"is_mythical\"]\n",
    "        name = res[\"name\"]\n",
    "        shape = res[\"shape\"][\"name\"]\n",
    "        image_url = f\"https://raw.githubusercontent.com/PokeAPI/sprites/master/sprites/pokemon/{i}.png\"\n",
    "\n",
    "        current_row = {\"color\": color, \"is_legendary\": is_legendary, \"is_mythical\": is_mythical, \"name\": name,\n",
    "                       \"shape\": shape,\n",
    "                       \"image_url\": image_url}\n",
    "        try:\n",
    "            # Capturando status\n",
    "            battle_res = requests.get(f\"https://pokeapi.co/api/v2/pokemon/{name}\").json()\n",
    "            status_res = battle_res[\"stats\"]\n",
    "            types = [c_type[\"type\"][\"name\"] for c_type in battle_res[\"types\"]]\n",
    "            current_row[\"type\"] = types\n",
    "            for status in status_res:\n",
    "                status_name = status['stat']['name'].replace(\"-\", \"_\")\n",
    "                status = status['base_stat']\n",
    "                current_row[f\"base_{status_name}\"] = status\n",
    "            data.append(current_row)\n",
    "        except:\n",
    "            #TODO: tratar pokemons com varias formas\n",
    "            print(\"Pokemon com várias formas\")\n",
    "            print(f\"https://pokeapi.co/api/v2/pokemon/{name}\")\n",
    "    df = pd.DataFrame.from_records(data)\n",
    "    df.to_pickle('./pokemons_dataset.pkl')\n",
    "    return df\n",
    "\n",
    "# Gen 6\n",
    "def fetch_pokedex():\n",
    "    start, end = 1, 650\n",
    "    try:\n",
    "        return pd.read_pickle('./pokemons_dataset.pkl')\n",
    "    except:\n",
    "        return fetch_pokedex_from_pokeapi(start, end)\n",
    "\n",
    "def pokemon_shapes(pokedex_df):\n",
    "    return pokedex_df[\"shape\"].unique()"
   ]
  },
  {
   "cell_type": "markdown",
   "id": "df529254",
   "metadata": {},
   "source": [
    "# Tipos"
   ]
  },
  {
   "cell_type": "markdown",
   "id": "f2c47a00",
   "metadata": {},
   "source": [
    "Aqui criamos uma matriz de efetividade para todos os tipos de Pokemon.  \n",
    "Por exemplo, a matriz indexada nas posições [1(fogo)][4(grama)] tem o valor 2. Isso quer dizer que golpes de tipo fogo são super efetivos contra pokemons de tipo grama."
   ]
  },
  {
   "cell_type": "code",
   "execution_count": 4,
   "id": "fcb6108d",
   "metadata": {
    "pycharm": {
     "name": "#%%\n"
    },
    "ExecuteTime": {
     "end_time": "2023-06-05T23:32:40.732381100Z",
     "start_time": "2023-06-05T23:32:40.716756800Z"
    }
   },
   "outputs": [],
   "source": [
    "## Create types effectiveness matrix\n",
    "class Types(Enum):\n",
    "    normal = 0\n",
    "    fire = 1\n",
    "    water = 2\n",
    "    electric = 3\n",
    "    grass = 4\n",
    "    ice = 5\n",
    "    fighting = 6\n",
    "    poison = 7\n",
    "    ground = 8\n",
    "    flying = 9\n",
    "    psychic = 10\n",
    "    bug = 11\n",
    "    rock = 12\n",
    "    ghost = 13\n",
    "    dragon = 14\n",
    "    dark = 15\n",
    "    steel = 16\n",
    "    fairy = 17\n",
    "\n",
    "damage_matrix = np.array([[1, 1, 1, 1, 1, 1, 1, 1, 1, 1, 1, 1, 1 / 2, 0, 1, 1, 1 / 2, 1],\n",
    "                          [1, 1/2, 1/2, 1, 2, 2, 1, 1, 1, 1, 1, 2, 1/2, 1, 1/2, 1, 2, 1],\n",
    "                          [1, 2, 1/2, 1, 1/2, 1, 1, 1, 2, 1, 1, 1, 2, 1, 1/2, 1, 1, 1],\n",
    "                          [1, 1, 2, 1/2, 1/2, 1, 1, 1, 0, 2, 1, 1, 1, 1, 1/2, 1, 1, 1],\n",
    "                          [1, 1/2, 2, 1, 1/2, 1, 1, 1/2, 2, 1/2, 1, 1/2, 2, 1, 1/2, 1, 1/2, 1],\n",
    "                          [1, 1/2, 1/2, 1, 2, 1/2, 1, 1, 2, 2, 1, 1, 1, 1, 2, 1, 1/2, 1],\n",
    "                          [2, 1, 1, 1, 1, 2, 1, 1/2, 1, 1/2, 1/2, 1/2, 2, 0, 1, 2, 2, 1/2],\n",
    "                          [1, 1, 1, 1, 2, 1, 1, 1/2, 1/2, 1, 1, 1, 1/2, 1/2, 1, 1, 0, 2],\n",
    "                          [1, 2, 1, 2, 1/2, 1, 1, 2, 1, 0, 1, 1/2, 2, 1, 1, 1, 2, 1],\n",
    "                          [1, 1, 1, 1/2, 2, 1, 2, 1, 1, 1, 1, 2, 1/2, 1, 1, 1, 1/2, 1],\n",
    "                          [1, 1, 1, 1, 1, 1, 2, 2, 1, 1, 1/2, 1, 1, 1, 1, 0, 1/2, 1],\n",
    "                          [1, 1/2, 1, 1, 2, 1, 1/2, 1/2, 1, 1/2, 2, 1, 1, 1/2, 1, 2, 1/2, 1/2],\n",
    "                          [1, 2, 1, 1, 1, 2, 1/2, 1, 1/2, 2, 1, 2, 1, 1, 1, 1, 1/2, 1],\n",
    "                          [0, 1, 1, 1, 1, 1, 1, 1, 1, 1, 2, 1, 1, 2, 1, 1/2, 1, 1],\n",
    "                          [1, 1, 1, 1, 1, 1, 1, 1, 1, 1, 1, 1, 1, 1, 2, 1, 1/2, 0],\n",
    "                          [1, 1, 1, 1, 1, 1, 1/2, 1, 1, 1, 2, 1, 1, 2, 1, 1/2, 1, 1/2],\n",
    "                          [1, 1/2, 1/2, 1/2, 1, 2, 1, 1, 1, 1, 1, 1, 2, 1, 1, 1, 1/2, 2],\n",
    "                          [1, 1/2, 1, 1, 1, 1, 2, 1/2, 1, 1, 1, 1, 1, 1, 2, 2, 1/2, 1]])"
   ]
  },
  {
   "cell_type": "code",
   "execution_count": 7,
   "outputs": [
    {
     "data": {
      "text/plain": "<Types.flying: 9>"
     },
     "execution_count": 7,
     "metadata": {},
     "output_type": "execute_result"
    }
   ],
   "source": [
    "Types(9)"
   ],
   "metadata": {
    "collapsed": false,
    "ExecuteTime": {
     "end_time": "2023-06-05T23:32:45.635599800Z",
     "start_time": "2023-06-05T23:32:45.604348800Z"
    }
   }
  },
  {
   "cell_type": "markdown",
   "id": "a00959d5",
   "metadata": {},
   "source": [
    "## Classes de batalha"
   ]
  },
  {
   "cell_type": "markdown",
   "id": "d044c2af",
   "metadata": {},
   "source": [
    "Essa classe descreve todos os tipos de pokemon que irei usar na minha classificação"
   ]
  },
  {
   "cell_type": "code",
   "execution_count": null,
   "id": "c1d490fc",
   "metadata": {},
   "outputs": [],
   "source": [
    "class BattleRole(Enum):\n",
    "    attacker = \"attacker\"\n",
    "    spattacker = \"spattacker\"\n",
    "    tank = \"tank\"\n",
    "    sptank = \"sptank\""
   ]
  },
  {
   "cell_type": "markdown",
   "id": "c491f5e8",
   "metadata": {},
   "source": [
    "## Limpando os dados"
   ]
  },
  {
   "cell_type": "code",
   "execution_count": null,
   "id": "5540cf4e",
   "metadata": {},
   "outputs": [],
   "source": [
    "pokedex_df = fetch_pokedex()"
   ]
  },
  {
   "cell_type": "code",
   "execution_count": null,
   "id": "1afdb167",
   "metadata": {},
   "outputs": [],
   "source": [
    "pokedex_df[\"status_mean\"] = pokedex_df[status_columns].mean(axis=1)\n",
    "pokedex_df = pd.concat([pokedex_df, pd.DataFrame(pokedex_df[\"type\"].to_list(), columns=['type1', 'type2'])], axis=1)"
   ]
  },
  {
   "cell_type": "markdown",
   "id": "95fa76cd",
   "metadata": {},
   "source": [
    "Para melhorar minha analise, irei filtrar apenas 70% dos pokemons com as maiores médias de status (para evitar que pokemons de estágio base sejam considerados)."
   ]
  },
  {
   "cell_type": "markdown",
   "id": "5c8aac5e",
   "metadata": {
    "pycharm": {
     "name": "#%% md\n"
    }
   },
   "source": [
    "## Média dos status"
   ]
  },
  {
   "cell_type": "code",
   "execution_count": null,
   "id": "8052c393",
   "metadata": {
    "pycharm": {
     "name": "#%%\n"
    }
   },
   "outputs": [],
   "source": [
    "pokedex_df[\"status_mean\"].hist()"
   ]
  },
  {
   "cell_type": "markdown",
   "id": "ca5a1203",
   "metadata": {
    "pycharm": {
     "name": "#%% md\n"
    }
   },
   "source": [
    "Calculando percentis"
   ]
  },
  {
   "cell_type": "code",
   "execution_count": null,
   "id": "a4d0b367",
   "metadata": {
    "pycharm": {
     "name": "#%%\n"
    }
   },
   "outputs": [],
   "source": [
    "pokedex_df[\"status_mean\"].quantile([.01, 0.05, 0.25, .4, 0.5, .9]).plot.bar()"
   ]
  },
  {
   "cell_type": "code",
   "execution_count": null,
   "id": "35fcbc83",
   "metadata": {
    "pycharm": {
     "name": "#%%\n"
    }
   },
   "outputs": [],
   "source": [
    "valor_mediana = pokedex_df[\"status_mean\"].quantile(0.3)"
   ]
  },
  {
   "cell_type": "code",
   "execution_count": null,
   "id": "7ea96a18",
   "metadata": {
    "pycharm": {
     "name": "#%%\n"
    }
   },
   "outputs": [],
   "source": [
    "pokedex_df_filtered = pokedex_df[pokedex_df[\"status_mean\"] >= valor_mediana]"
   ]
  },
  {
   "cell_type": "code",
   "execution_count": null,
   "id": "21928848",
   "metadata": {},
   "outputs": [],
   "source": [
    "pokedex_df_filtered[\"status_mean\"].quantile([.01, 0.05, 0.25, .4, 0.5, .9]).plot.bar()"
   ]
  },
  {
   "cell_type": "code",
   "execution_count": null,
   "id": "6357bec2",
   "metadata": {},
   "outputs": [],
   "source": [
    "pokedex_df_filtered.to_pickle('./pokedex_filtered.pkl')"
   ]
  },
  {
   "cell_type": "code",
   "execution_count": null,
   "id": "c0165a06",
   "metadata": {
    "pycharm": {
     "name": "#%%\n"
    }
   },
   "outputs": [],
   "source": [
    "pokedex_df_filtered['type1'].value_counts().plot(kind='bar')\n",
    "plt.xlabel('Tipo')\n",
    "plt.ylabel('Quantidade')"
   ]
  },
  {
   "cell_type": "markdown",
   "id": "599f9c05",
   "metadata": {
    "pycharm": {
     "name": "#%% md\n"
    }
   },
   "source": [
    "Comparando com a distribuição original, podemos ver que não mudou muito."
   ]
  },
  {
   "cell_type": "code",
   "execution_count": null,
   "id": "e1a56013",
   "metadata": {
    "pycharm": {
     "name": "#%%\n"
    }
   },
   "outputs": [],
   "source": [
    "pokedex_df['type1'].value_counts().plot(kind='bar')\n",
    "plt.xlabel('Tipo')\n",
    "plt.ylabel('Quantidade')"
   ]
  },
  {
   "cell_type": "code",
   "execution_count": null,
   "id": "c259db83",
   "metadata": {},
   "outputs": [],
   "source": []
  }
 ],
 "metadata": {
  "kernelspec": {
   "display_name": "Python 3 (ipykernel)",
   "language": "python",
   "name": "python3"
  },
  "language_info": {
   "codemirror_mode": {
    "name": "ipython",
    "version": 3
   },
   "file_extension": ".py",
   "mimetype": "text/x-python",
   "name": "python",
   "nbconvert_exporter": "python",
   "pygments_lexer": "ipython3",
   "version": "3.10.4"
  }
 },
 "nbformat": 4,
 "nbformat_minor": 5
}
