{
 "cells": [
  {
   "cell_type": "code",
   "execution_count": 4,
   "metadata": {
    "ExecuteTime": {
     "end_time": "2023-05-31T21:31:53.244780400Z",
     "start_time": "2023-05-31T21:31:53.213175600Z"
    }
   },
   "outputs": [],
   "source": [
    "import pandas as pd\n",
    "import numpy as np\n",
    "from ipynb.fs.full.extracao import damage_matrix, Types, pokedex_df_filtered"
   ]
  },
  {
   "cell_type": "markdown",
   "metadata": {},
   "source": [
    "## Classificador de tipos"
   ]
  },
  {
   "cell_type": "markdown",
   "metadata": {},
   "source": [
    "Agora iremos arrumar um jeito de encontrar um Pokemon com o tipo complementar ao meu Pokemon incial."
   ]
  },
  {
   "cell_type": "code",
   "execution_count": 5,
   "metadata": {
    "ExecuteTime": {
     "end_time": "2023-05-31T21:31:55.967835600Z",
     "start_time": "2023-05-31T21:31:55.952206900Z"
    }
   },
   "outputs": [],
   "source": [
    "pokemon = \"Charizard\"\n",
    "pokemon_types = [Types.Fire, Types.Flying]\n",
    "\n",
    "weak_against = []\n",
    "strong_against = []\n",
    "\n",
    "for cur_type in pokemon_types:\n",
    "    damage_multipliers_def = damage_matrix[:, cur_type.value]\n",
    "    for i in range(len(damage_multipliers_def)):\n",
    "        if (damage_multipliers_def[i] == 2.0):\n",
    "            weak_against.append(i)\n",
    "\n",
    "    damage_multipliers_atk = damage_matrix[cur_type.value]\n",
    "    for i in range(len(damage_multipliers_atk)):\n",
    "        if (damage_multipliers_atk[i] == 2.0):\n",
    "            strong_against.append(i)\n",
    "\n",
    "for i in weak_against:\n"
   ]
  },
  {
   "cell_type": "code",
   "execution_count": 6,
   "metadata": {
    "ExecuteTime": {
     "end_time": "2023-05-31T21:31:56.273954100Z",
     "start_time": "2023-05-31T21:31:56.254517200Z"
    }
   },
   "outputs": [
    {
     "name": "stdout",
     "output_type": "stream",
     "text": [
      "Charizard is weak against Water\n",
      "Charizard is weak against Ground\n",
      "Charizard is weak against Rock\n",
      "Charizard is weak against Electric\n",
      "Charizard is weak against Ice\n",
      "Charizard is weak against Rock\n",
      "\n",
      "\n",
      "Charizard is strong against Grass\n",
      "Charizard is strong against Ice\n",
      "Charizard is strong against Bug\n",
      "Charizard is strong against Steel\n",
      "Charizard is strong against Grass\n",
      "Charizard is strong against Fighting\n",
      "Charizard is strong against Bug\n"
     ]
    }
   ],
   "source": [
    "for i in weak_against:\n",
    "    print(f\"{pokemon} is weak against {Types(i).name}\")\n",
    "print(\"\\n\")\n",
    "for i in strong_against:\n",
    "    print(f\"{pokemon} is strong against {Types(i).name}\")"
   ]
  },
  {
   "cell_type": "markdown",
   "metadata": {},
   "source": [
    "Sabendo quais as fraquezas e efetividades do meu pokemon, irei buscar:\n",
    "- 3 pokemons imunes (ou fracos) as fraquezas do meu inicial. Irei escolher as fraquezes que são mais usadas no competitivo.\n",
    "- 2 pokemons superefetivos contra as fraquezas do meu inicial. Irei escolher as fraquezes que são mais usadas no competitivo."
   ]
  },
  {
   "cell_type": "markdown",
   "metadata": {},
   "source": [
    "Irei usar algum critério randomico para escolher tipos diferents para essas duas categorias e gerar mais de uma opção de time.  \n",
    "Por exemplo, para o Charizard posso escolher 3 Pokemons imunes aos tipos:\n",
    "- Water\n",
    "- Ground\n",
    "- Ice  \n",
    "\n",
    "ou\n",
    "\n",
    "- Rock\n",
    "- Eletric\n",
    "- Water"
   ]
  },
  {
   "cell_type": "markdown",
   "source": [
    "## Implementando"
   ],
   "metadata": {
    "collapsed": false
   }
  },
  {
   "cell_type": "code",
   "execution_count": 12,
   "outputs": [
    {
     "data": {
      "text/plain": "[2, 8, 12, 3, 5, 12]"
     },
     "execution_count": 12,
     "metadata": {},
     "output_type": "execute_result"
    }
   ],
   "source": [
    "weak_against"
   ],
   "metadata": {
    "collapsed": false,
    "ExecuteTime": {
     "end_time": "2023-05-31T21:42:04.315418900Z",
     "start_time": "2023-05-31T21:42:04.268428400Z"
    }
   }
  },
  {
   "cell_type": "code",
   "execution_count": 10,
   "outputs": [
    {
     "data": {
      "text/plain": "array([12, 12,  3])"
     },
     "execution_count": 10,
     "metadata": {},
     "output_type": "execute_result"
    }
   ],
   "source": [
    "np.random.choice(weak_against, 3)"
   ],
   "metadata": {
    "collapsed": false,
    "ExecuteTime": {
     "end_time": "2023-05-31T21:36:46.466218700Z",
     "start_time": "2023-05-31T21:36:46.448367200Z"
    }
   }
  },
  {
   "cell_type": "code",
   "execution_count": null,
   "outputs": [],
   "source": [
    "pokedex_df_filtered[pokedex_df_filtered['type1'] == '']"
   ],
   "metadata": {
    "collapsed": false
   }
  }
 ],
 "metadata": {
  "kernelspec": {
   "display_name": "Python 3 (ipykernel)",
   "language": "python",
   "name": "python3"
  },
  "language_info": {
   "codemirror_mode": {
    "name": "ipython",
    "version": 3
   },
   "file_extension": ".py",
   "mimetype": "text/x-python",
   "name": "python",
   "nbconvert_exporter": "python",
   "pygments_lexer": "ipython3",
   "version": "3.10.4"
  }
 },
 "nbformat": 4,
 "nbformat_minor": 1
}
